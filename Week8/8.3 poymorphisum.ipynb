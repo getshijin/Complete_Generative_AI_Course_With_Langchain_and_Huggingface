{
 "cells": [
  {
   "cell_type": "code",
   "execution_count": 7,
   "metadata": {},
   "outputs": [],
   "source": [
    "##base class\n",
    "\n",
    "class Animal:\n",
    "\n",
    "    def speak(self):\n",
    "        return 'Sound of the animal'\n",
    "    \n",
    "    ##defrived class 1\n",
    "class Dog (Animal):\n",
    "    def speak(self):\n",
    "        return 'Woof!'\n",
    "    \n",
    "##defrived class 2\n",
    "class Cat (Animal):\n",
    "    def speak(self):\n",
    "            return 'Meow!'\n",
    "    \n",
    "def animal_speak(animal):\n",
    "     print(animal.speak())"
   ]
  },
  {
   "cell_type": "code",
   "execution_count": 8,
   "metadata": {},
   "outputs": [
    {
     "name": "stdout",
     "output_type": "stream",
     "text": [
      "Meow!\n",
      "Woof!\n",
      "Woof!\n",
      "Meow!\n"
     ]
    }
   ],
   "source": [
    "cat =Cat()\n",
    "dog =Dog()\n",
    "\n",
    "print(cat.speak())\n",
    "print(dog.speak())\n",
    "\n",
    "#animal_speak()\n",
    "animal_speak(dog)\n",
    "animal_speak(cat)"
   ]
  },
  {
   "cell_type": "code",
   "execution_count": 15,
   "metadata": {},
   "outputs": [
    {
     "name": "stdout",
     "output_type": "stream",
     "text": [
      "The area is 20\n",
      "The area is 28.259999999999998\n"
     ]
    }
   ],
   "source": [
    "###polymorphisum with function and methods\n",
    "\n",
    "class Shape:\n",
    "\n",
    "    def area(self):\n",
    "        return 'area of fig is'\n",
    "    \n",
    "#derived class\n",
    "class Rectangle(Shape):\n",
    "    def __init__(self, width, height):\n",
    "        self.width=width\n",
    "        self.height=height\n",
    "    def area(self):\n",
    "        return self.width * self.height\n",
    "        \n",
    "#derv class 2\n",
    "\n",
    "class circle(Shape):\n",
    "    def __init__(self, r):\n",
    "        self.radious= r\n",
    "\n",
    "    def area(self):\n",
    "        return 3.14* self.radious*self.radious\n",
    "    \n",
    "def print_area(shape):\n",
    "    print(f'The area is {shape.area()}')\n",
    "\n",
    "rect = Rectangle(4,5)\n",
    "cir = circle(3)\n",
    "\n",
    "print_area(rect)\n",
    "print_area(cir)"
   ]
  },
  {
   "cell_type": "code",
   "execution_count": null,
   "metadata": {},
   "outputs": [],
   "source": []
  }
 ],
 "metadata": {
  "kernelspec": {
   "display_name": "Python 3",
   "language": "python",
   "name": "python3"
  },
  "language_info": {
   "codemirror_mode": {
    "name": "ipython",
    "version": 3
   },
   "file_extension": ".py",
   "mimetype": "text/x-python",
   "name": "python",
   "nbconvert_exporter": "python",
   "pygments_lexer": "ipython3",
   "version": "3.10.16"
  }
 },
 "nbformat": 4,
 "nbformat_minor": 2
}
