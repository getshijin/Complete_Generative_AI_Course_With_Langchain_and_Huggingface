{
 "cells": [
  {
   "cell_type": "code",
   "execution_count": 1,
   "metadata": {},
   "outputs": [],
   "source": [
    "#inheritance\n",
    "#parent class\n",
    "class Car:\n",
    "\n",
    "    def __init__(self,windows,doors,enginetype):\n",
    "        self.windows= windows\n",
    "        self.doors= doors\n",
    "        self.enginetype =enginetype\n",
    "\n",
    "    def drive(self):\n",
    "        print(f'the person will drive the {self.enginetype} car')\n",
    "        "
   ]
  },
  {
   "cell_type": "code",
   "execution_count": 2,
   "metadata": {},
   "outputs": [],
   "source": [
    "car1 = Car(4,5,'petrol')\n",
    "car1.drive()"
   ]
  },
  {
   "cell_type": "code",
   "execution_count": 5,
   "metadata": {},
   "outputs": [],
   "source": [
    "class Tesla(Car):\n",
    "\n",
    "    def __init__(self,window, doors,enginetype,is_self_driving):\n",
    "        super().__init__(window,doors,enginetype)\n",
    "        self.is_self_driving =is_self_driving\n",
    "\n",
    "    def self_drive(self):\n",
    "        print(f'the Tesla support: {self.is_self_driving}')\n",
    "\n",
    "car2 =Tesla(4,5,'Electric',True)"
   ]
  },
  {
   "cell_type": "code",
   "execution_count": 7,
   "metadata": {},
   "outputs": [
    {
     "name": "stdout",
     "output_type": "stream",
     "text": [
      "the Tesla support: True\n"
     ]
    }
   ],
   "source": [
    "car2.self_drive()"
   ]
  },
  {
   "cell_type": "code",
   "execution_count": 8,
   "metadata": {},
   "outputs": [
    {
     "name": "stdout",
     "output_type": "stream",
     "text": [
      "the person will drive the Electric\n"
     ]
    }
   ],
   "source": [
    "car2.drive()"
   ]
  },
  {
   "cell_type": "code",
   "execution_count": 11,
   "metadata": {},
   "outputs": [
    {
     "data": {
      "text/plain": [
       "'Bruno says woof'"
      ]
     },
     "execution_count": 11,
     "metadata": {},
     "output_type": "execute_result"
    }
   ],
   "source": [
    "### multiple inheritance\n",
    "#Base class 1\n",
    "class Animal:\n",
    "    def __init__(self, name):\n",
    "        self.name =name\n",
    "\n",
    "    def speak(self):\n",
    "        print('subclass must implement this method')\n",
    "#Base class 2\n",
    "class Pet:\n",
    "    def __init__(self, owner):\n",
    "        self.owner = owner\n",
    "\n",
    "## Derived class\n",
    "class Dog(Animal, Pet):\n",
    "    def __init__(self,name,owner):\n",
    "        Animal.__init__(self,name)\n",
    "        Pet.__init__(self, owner)\n",
    "\n",
    "    def speak(self):\n",
    "\n",
    "        return f'{self.name} says woof'\n",
    "    \n",
    "##call the class\n",
    "\n",
    "my_dog = Dog('Bruno','Shijin')\n",
    "my_dog.speak()\n"
   ]
  },
  {
   "cell_type": "code",
   "execution_count": null,
   "metadata": {},
   "outputs": [],
   "source": []
  }
 ],
 "metadata": {
  "kernelspec": {
   "display_name": "Python 3",
   "language": "python",
   "name": "python3"
  },
  "language_info": {
   "codemirror_mode": {
    "name": "ipython",
    "version": 3
   },
   "file_extension": ".py",
   "mimetype": "text/x-python",
   "name": "python",
   "nbconvert_exporter": "python",
   "pygments_lexer": "ipython3",
   "version": "3.10.16"
  }
 },
 "nbformat": 4,
 "nbformat_minor": 2
}
