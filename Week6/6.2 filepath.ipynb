{
 "cells": [
  {
   "cell_type": "code",
   "execution_count": 1,
   "metadata": {},
   "outputs": [
    {
     "name": "stdout",
     "output_type": "stream",
     "text": [
      "current working directory is c:\\genai\\Week6\n"
     ]
    }
   ],
   "source": [
    "import os\n",
    "cwd=os.getcwd()\n",
    "print(f'current working directory is {cwd}')"
   ]
  },
  {
   "cell_type": "code",
   "execution_count": 2,
   "metadata": {},
   "outputs": [
    {
     "name": "stdout",
     "output_type": "stream",
     "text": [
      "directory name package created\n"
     ]
    }
   ],
   "source": [
    "## create a new directory\n",
    "\n",
    "new_dir= 'package'\n",
    "os.mkdir(new_dir)\n",
    "\n",
    "print(f'directory name {new_dir} created')"
   ]
  },
  {
   "cell_type": "code",
   "execution_count": 5,
   "metadata": {},
   "outputs": [
    {
     "name": "stdout",
     "output_type": "stream",
     "text": [
      "['6.1 fileopration.ipynb', '6.2 filepath.ipynb', 'destination.txt', 'example.bin', 'example.txt', 'example1.txt', 'package']\n"
     ]
    }
   ],
   "source": [
    "## listing all the dir\n",
    "\n",
    "item =os.listdir()\n",
    "\n",
    "print(item)"
   ]
  },
  {
   "cell_type": "code",
   "execution_count": 11,
   "metadata": {},
   "outputs": [
    {
     "name": "stdout",
     "output_type": "stream",
     "text": [
      "c:\\genai\\Week6\\folder\\file.txt\n"
     ]
    }
   ],
   "source": [
    "###join paths\n",
    "\n",
    "dir_name = 'folder'\n",
    "file_name= 'file.txt'\n",
    "\n",
    "full_path = os.path.join(os.getcwd(),dir_name,file_name)\n",
    "\n",
    "print(full_path)"
   ]
  },
  {
   "cell_type": "code",
   "execution_count": 13,
   "metadata": {},
   "outputs": [
    {
     "name": "stdout",
     "output_type": "stream",
     "text": [
      " exist\n"
     ]
    }
   ],
   "source": [
    "path='example.txt'\n",
    "\n",
    "if os.path.exists(path):\n",
    "    print(' exist')\n",
    "else:\n",
    "    pass"
   ]
  },
  {
   "cell_type": "code",
   "execution_count": 15,
   "metadata": {},
   "outputs": [
    {
     "name": "stdout",
     "output_type": "stream",
     "text": [
      " file\n"
     ]
    }
   ],
   "source": [
    "# checking file or directory\n",
    "path='example.txt'\n",
    "\n",
    "if os.path.isfile(path):\n",
    "    print(' file')\n",
    "elif os.path.isdir(path):\n",
    "    print('is dir')\n",
    "else:\n",
    "    pass"
   ]
  },
  {
   "cell_type": "code",
   "execution_count": 16,
   "metadata": {},
   "outputs": [
    {
     "name": "stdout",
     "output_type": "stream",
     "text": [
      "c:\\genai\\Week6\\example.txt\n"
     ]
    }
   ],
   "source": [
    "##getting absolute path\n",
    "\n",
    "relative_path = 'example.txt'\n",
    "\n",
    "absolut_path =os.path.abspath(relative_path)\n",
    "\n",
    "print(absolut_path)"
   ]
  },
  {
   "cell_type": "code",
   "execution_count": null,
   "metadata": {},
   "outputs": [],
   "source": []
  }
 ],
 "metadata": {
  "kernelspec": {
   "display_name": "Python 3",
   "language": "python",
   "name": "python3"
  },
  "language_info": {
   "codemirror_mode": {
    "name": "ipython",
    "version": 3
   },
   "file_extension": ".py",
   "mimetype": "text/x-python",
   "name": "python",
   "nbconvert_exporter": "python",
   "pygments_lexer": "ipython3",
   "version": "3.10.16"
  }
 },
 "nbformat": 4,
 "nbformat_minor": 2
}
