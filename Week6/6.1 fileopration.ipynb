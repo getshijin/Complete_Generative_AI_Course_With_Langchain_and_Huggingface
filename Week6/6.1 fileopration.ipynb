{
 "cells": [
  {
   "cell_type": "code",
   "execution_count": 2,
   "metadata": {},
   "outputs": [
    {
     "name": "stdout",
     "output_type": "stream",
     "text": [
      "helo how are you\n",
      "my name is shijin \n",
      "where are you ?\n"
     ]
    }
   ],
   "source": [
    "#read\n",
    "\n",
    "with open ('example.txt','r') as file:\n",
    "    content =file.read()\n",
    "    print(content)\n"
   ]
  },
  {
   "cell_type": "code",
   "execution_count": 8,
   "metadata": {},
   "outputs": [
    {
     "name": "stdout",
     "output_type": "stream",
     "text": [
      "i am here\n",
      "i am here !\n",
      "i am here !!\n"
     ]
    }
   ],
   "source": [
    "with open('example.txt','r') as file:\n",
    "    for line in file:\n",
    "        print(line.strip())"
   ]
  },
  {
   "cell_type": "code",
   "execution_count": 7,
   "metadata": {},
   "outputs": [],
   "source": [
    "#write or overwrite\n",
    "\n",
    "with open('example.txt','w') as file:\n",
    "    \n",
    "    file.write('i am here \\n')\n",
    "    file.write('i am here !\\n')\n",
    "    file.write('i am here !!\\n')"
   ]
  },
  {
   "cell_type": "code",
   "execution_count": 9,
   "metadata": {},
   "outputs": [],
   "source": [
    "with open('example.txt','a') as file:\n",
    "    \n",
    "    file.write('i am here \\n')\n",
    "    file.write('i am here !\\n')\n",
    "    file.write('i am here !!\\n')"
   ]
  },
  {
   "cell_type": "code",
   "execution_count": 10,
   "metadata": {},
   "outputs": [
    {
     "name": "stdout",
     "output_type": "stream",
     "text": [
      "i am here\n",
      "i am here !\n",
      "i am here !!\n",
      "i am here\n",
      "i am here !\n",
      "i am here !!\n"
     ]
    }
   ],
   "source": [
    "with open('example.txt','r') as file:\n",
    "    for line in file:\n",
    "        print(line.strip())"
   ]
  },
  {
   "cell_type": "code",
   "execution_count": 11,
   "metadata": {},
   "outputs": [],
   "source": [
    "line = ['i am here \\n','i am here !\\n','i am here !!\\n']\n",
    "\n",
    "with open('example.txt', 'a') as file:\n",
    "    file.writelines(line)"
   ]
  },
  {
   "cell_type": "code",
   "execution_count": 12,
   "metadata": {},
   "outputs": [
    {
     "name": "stdout",
     "output_type": "stream",
     "text": [
      "i am here\n",
      "i am here !\n",
      "i am here !!\n",
      "i am here\n",
      "i am here !\n",
      "i am here !!\n",
      "i am here\n",
      "i am here !\n",
      "i am here !!\n"
     ]
    }
   ],
   "source": [
    "with open('example.txt','r') as file:\n",
    "    for line in file:\n",
    "        print(line.strip())"
   ]
  },
  {
   "cell_type": "code",
   "execution_count": 14,
   "metadata": {},
   "outputs": [],
   "source": [
    "##Binary files\n",
    "data = b'\\x00\\x01\\x02\\x04'\n",
    "with open('example.bin','wb') as file:\n",
    "    file.write(data)"
   ]
  },
  {
   "cell_type": "code",
   "execution_count": 16,
   "metadata": {},
   "outputs": [
    {
     "name": "stdout",
     "output_type": "stream",
     "text": [
      "b'\\x00\\x01\\x02\\x04'\n"
     ]
    }
   ],
   "source": [
    "##Binary files\n",
    "\n",
    "with open('example.bin','rb') as file:\n",
    "    print(file.read())"
   ]
  },
  {
   "cell_type": "code",
   "execution_count": 17,
   "metadata": {},
   "outputs": [],
   "source": [
    "## read the content from source to destination text file\n",
    "#copy data\n",
    "\n",
    "\n",
    "with open('example.txt','r') as file:\n",
    "    content  = file.read()\n",
    "\n",
    "with open('destination.txt', 'w') as file:\n",
    "    file.write(content)\n"
   ]
  },
  {
   "cell_type": "code",
   "execution_count": 25,
   "metadata": {},
   "outputs": [
    {
     "name": "stdout",
     "output_type": "stream",
     "text": [
      "no of lines is 9\n",
      "no of words is 33\n",
      "no of char is 78\n"
     ]
    }
   ],
   "source": [
    "### lines , word, character\n",
    "def count_text_file(file_path):\n",
    "    with open(file_path, 'r') as file:\n",
    "        readlines_ =file.readlines()\n",
    "        line_count =len(readlines_)\n",
    "        print(f'no of lines is {line_count}')\n",
    "        ## word count\n",
    "        no_words = sum( len(line.split()) for line in readlines_) \n",
    "        print(f'no of words is {no_words}')\n",
    "\n",
    "        #character count\n",
    "        no_char = sum( len(set(list(line))) for line in readlines_)\n",
    "        print(f'no of char is {no_char}')\n",
    "\n",
    "count_text_file('example.txt')\n"
   ]
  },
  {
   "cell_type": "code",
   "execution_count": 27,
   "metadata": {},
   "outputs": [
    {
     "data": {
      "text/plain": [
       "'shijin.MS'"
      ]
     },
     "execution_count": 27,
     "metadata": {},
     "output_type": "execute_result"
    }
   ],
   "source": [
    "'.'.join(('shijin','MS'))"
   ]
  },
  {
   "cell_type": "code",
   "execution_count": 34,
   "metadata": {},
   "outputs": [
    {
     "name": "stdout",
     "output_type": "stream",
     "text": [
      "hello shijin here!where are you !\n"
     ]
    }
   ],
   "source": [
    "## write an dread\n",
    "\n",
    "with open('example1.txt','w+') as file:\n",
    "    file.write('hello shijin here!')\n",
    "    file.write('where are you !')\n",
    "\n",
    "    #\n",
    "    # \n",
    "    file.seek(0)\n",
    "\n",
    "    content=file.read()\n",
    "    print(content)"
   ]
  },
  {
   "cell_type": "code",
   "execution_count": null,
   "metadata": {},
   "outputs": [],
   "source": []
  }
 ],
 "metadata": {
  "kernelspec": {
   "display_name": "Python 3",
   "language": "python",
   "name": "python3"
  },
  "language_info": {
   "codemirror_mode": {
    "name": "ipython",
    "version": 3
   },
   "file_extension": ".py",
   "mimetype": "text/x-python",
   "name": "python",
   "nbconvert_exporter": "python",
   "pygments_lexer": "ipython3",
   "version": "3.10.16"
  }
 },
 "nbformat": 4,
 "nbformat_minor": 2
}
