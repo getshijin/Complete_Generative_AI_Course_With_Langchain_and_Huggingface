{
 "cells": [
  {
   "cell_type": "code",
   "execution_count": 5,
   "metadata": {},
   "outputs": [
    {
     "data": {
      "text/plain": [
       "'go'"
      ]
     },
     "execution_count": 5,
     "metadata": {},
     "output_type": "execute_result"
    }
   ],
   "source": [
    "from nltk.stem import WordNetLemmatizer\n",
    "lemmitizer = WordNetLemmatizer()\n",
    "\n",
    "lemmitizer.lemmatize('going',pos='v')"
   ]
  },
  {
   "cell_type": "code",
   "execution_count": 8,
   "metadata": {},
   "outputs": [
    {
     "name": "stdout",
     "output_type": "stream",
     "text": [
      "writing----->writing\n",
      "writes----->writes\n",
      "eat----->eat\n",
      "eating----->eating\n",
      "eaten----->eaten\n",
      "history----->history\n",
      "firmly----->firmly\n",
      "sportingly----->sportingly\n",
      "going----->going\n",
      "goes----->go\n",
      "people----->people\n"
     ]
    }
   ],
   "source": [
    "words = ['writing','writes','eat','eating','eaten','history','firmly','sportingly','going','goes','people']\n",
    "\n",
    "for word in words:\n",
    "    print(word + '----->'+lemmitizer.lemmatize(word))"
   ]
  },
  {
   "cell_type": "code",
   "execution_count": 9,
   "metadata": {},
   "outputs": [
    {
     "name": "stdout",
     "output_type": "stream",
     "text": [
      "writing----->write\n",
      "writes----->write\n",
      "eat----->eat\n",
      "eating----->eat\n",
      "eaten----->eat\n",
      "history----->history\n",
      "firmly----->firmly\n",
      "sportingly----->sportingly\n",
      "going----->go\n",
      "goes----->go\n",
      "people----->people\n"
     ]
    }
   ],
   "source": [
    "for word in words:\n",
    "    print(word + '----->'+lemmitizer.lemmatize(word,pos='v'))"
   ]
  },
  {
   "cell_type": "code",
   "execution_count": null,
   "metadata": {},
   "outputs": [],
   "source": []
  }
 ],
 "metadata": {
  "kernelspec": {
   "display_name": "Python 3",
   "language": "python",
   "name": "python3"
  },
  "language_info": {
   "codemirror_mode": {
    "name": "ipython",
    "version": 3
   },
   "file_extension": ".py",
   "mimetype": "text/x-python",
   "name": "python",
   "nbconvert_exporter": "python",
   "pygments_lexer": "ipython3",
   "version": "3.10.16"
  }
 },
 "nbformat": 4,
 "nbformat_minor": 2
}
