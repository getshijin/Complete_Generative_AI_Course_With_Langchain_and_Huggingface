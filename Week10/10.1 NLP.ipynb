{
 "cells": [
  {
   "cell_type": "code",
   "execution_count": 1,
   "metadata": {},
   "outputs": [],
   "source": [
    "import nltk as nk"
   ]
  },
  {
   "cell_type": "code",
   "execution_count": 7,
   "metadata": {},
   "outputs": [],
   "source": [
    "corpus = '''\n",
    "Hello welocme to Shijin , Ineuron NLPs tuttrial\n",
    "please do watch the entire cource to become expert in NLP\n",
    "\n",
    "'''"
   ]
  },
  {
   "cell_type": "code",
   "execution_count": 8,
   "metadata": {},
   "outputs": [
    {
     "name": "stdout",
     "output_type": "stream",
     "text": [
      "\n",
      "Hello welocme to Shijin , Ineuron NLPs tuttrial\n",
      "please do watch the entire cource to become expert in NLP\n",
      "\n",
      "\n"
     ]
    }
   ],
   "source": [
    "print(corpus)"
   ]
  },
  {
   "cell_type": "code",
   "execution_count": 9,
   "metadata": {},
   "outputs": [
    {
     "data": {
      "text/plain": [
       "['\\nHello welocme to Shijin , Ineuron NLPs tuttrial\\nplease do watch the entire cource to become expert in NLP']"
      ]
     },
     "execution_count": 9,
     "metadata": {},
     "output_type": "execute_result"
    }
   ],
   "source": [
    "## Tokenization\n",
    "##sentence ---> token#\n",
    "\n",
    "from nltk.tokenize import sent_tokenize\n",
    "sent_tokenize(corpus)"
   ]
  },
  {
   "cell_type": "code",
   "execution_count": null,
   "metadata": {},
   "outputs": [],
   "source": [
    "'stemming'"
   ]
  },
  {
   "cell_type": "code",
   "execution_count": 1,
   "metadata": {},
   "outputs": [],
   "source": [
    "words = ['writing','writes','eat','eating','eaten']"
   ]
  },
  {
   "cell_type": "code",
   "execution_count": 4,
   "metadata": {},
   "outputs": [],
   "source": [
    "#porterstemer\n",
    "\n",
    "from nltk.stem import PorterStemmer   \n",
    "stemming= PorterStemmer()"
   ]
  },
  {
   "cell_type": "code",
   "execution_count": 5,
   "metadata": {},
   "outputs": [
    {
     "name": "stdout",
     "output_type": "stream",
     "text": [
      "writing----->write\n",
      "writes----->write\n",
      "eat----->eat\n",
      "eating----->eat\n",
      "eaten----->eaten\n"
     ]
    }
   ],
   "source": [
    "for word in words:\n",
    "    print(word + '----->'+stemming.stem(word))"
   ]
  },
  {
   "cell_type": "code",
   "execution_count": 7,
   "metadata": {},
   "outputs": [],
   "source": [
    "from nltk.stem import RegexpStemmer\n",
    "reg_stemmer = RegexpStemmer('ing$|s$|e$|able$',min=4)"
   ]
  },
  {
   "cell_type": "code",
   "execution_count": 11,
   "metadata": {},
   "outputs": [
    {
     "name": "stdout",
     "output_type": "stream",
     "text": [
      "eat\n",
      "ingeat\n",
      "--------------\n",
      "eat\n",
      "eat\n"
     ]
    }
   ],
   "source": [
    "print(reg_stemmer.stem('eating'))\n",
    "print(reg_stemmer.stem('ingeating'))\n",
    "reg_stemmer = RegexpStemmer('ing|s$|e$|able$',min=4)\n",
    "print('--------------')\n",
    "print(reg_stemmer.stem('eating'))\n",
    "print(reg_stemmer.stem('ingeating'))"
   ]
  },
  {
   "cell_type": "code",
   "execution_count": 12,
   "metadata": {},
   "outputs": [
    {
     "name": "stdout",
     "output_type": "stream",
     "text": [
      "writing----->writ\n",
      "writes----->write\n",
      "eat----->eat\n",
      "eating----->eat\n",
      "eaten----->eaten\n"
     ]
    }
   ],
   "source": [
    "for word in words:\n",
    "    print(word + '----->'+reg_stemmer.stem(word))"
   ]
  },
  {
   "cell_type": "code",
   "execution_count": 20,
   "metadata": {},
   "outputs": [
    {
     "name": "stdout",
     "output_type": "stream",
     "text": [
      "writing----->write\n",
      "writes----->write\n",
      "eat----->eat\n",
      "eating----->eat\n",
      "eaten----->eaten\n",
      "history----->histori\n",
      "firmly----->firm\n",
      "sportingly----->sport\n",
      "going----->go\n",
      "goes----->goe\n",
      "people----->peopl\n"
     ]
    }
   ],
   "source": [
    "words = ['writing','writes','eat','eating','eaten','history','firmly','sportingly','going','goes','people']\n",
    "#Snowball Stemmer\n",
    "from nltk.stem import SnowballStemmer\n",
    "snowball =SnowballStemmer('english')\n",
    "\n",
    "for word in words:\n",
    "    print(word + '----->'+snowball.stem(word))"
   ]
  },
  {
   "cell_type": "code",
   "execution_count": null,
   "metadata": {},
   "outputs": [],
   "source": []
  }
 ],
 "metadata": {
  "kernelspec": {
   "display_name": "Python 3",
   "language": "python",
   "name": "python3"
  },
  "language_info": {
   "codemirror_mode": {
    "name": "ipython",
    "version": 3
   },
   "file_extension": ".py",
   "mimetype": "text/x-python",
   "name": "python",
   "nbconvert_exporter": "python",
   "pygments_lexer": "ipython3",
   "version": "3.10.16"
  }
 },
 "nbformat": 4,
 "nbformat_minor": 2
}
